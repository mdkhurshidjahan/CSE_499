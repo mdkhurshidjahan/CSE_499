{
 "cells": [
  {
   "cell_type": "code",
   "execution_count": 34,
   "id": "10680388",
   "metadata": {},
   "outputs": [
    {
     "name": "stdout",
     "output_type": "stream",
     "text": [
      "cuda\n"
     ]
    }
   ],
   "source": [
    "import os\n",
    "import torch\n",
    "import torchvision.transforms as transforms\n",
    "from PIL import Image, ImageFilter\n",
    "\n",
    "# Check if GPU is available\n",
    "device = torch.device(\"cuda\" if torch.cuda.is_available() else \"cpu\")\n",
    "print(device)"
   ]
  },
  {
   "cell_type": "code",
   "execution_count": 38,
   "id": "503ba5e3",
   "metadata": {},
   "outputs": [],
   "source": [
    "def enhance_image(image_path):\n",
    "    # Load the image\n",
    "    image = Image.open(image_path).convert(\"RGB\")\n",
    "\n",
    "    # Define the transformations you want to apply to the image\n",
    "    transform = transforms.Compose([\n",
    "        transforms.ToTensor(),\n",
    "        # Add any other transformations you want to apply here\n",
    "    ])\n",
    "\n",
    "    # Apply the transformations and move the image to the GPU (if available)\n",
    "    image_tensor = transform(image).unsqueeze(0).to(device)\n",
    "\n",
    "    # Perform image enhancement using a 3-channel kernel\n",
    "    kernel = torch.tensor([[\n",
    "        [[-1, -1, -1],\n",
    "         [-1, 9, -1],\n",
    "         [-1, -1, -1]],\n",
    "        [[-1, -1, -1],\n",
    "         [-1, 9, -1],\n",
    "         [-1, -1, -1]],\n",
    "        [[-1, -1, -1],\n",
    "         [-1, 9, -1],\n",
    "         [-1, -1, -1]]\n",
    "    ]], dtype=torch.float32).to(device)\n",
    "\n",
    "    # Perform the convolution on the RGB input\n",
    "    enhanced_image_tensor = torch.nn.functional.conv2d(image_tensor, kernel, padding=1)\n",
    "\n",
    "    # Convert the enhanced image tensor back to a PIL image\n",
    "    enhanced_image = transforms.ToPILImage()(enhanced_image_tensor.squeeze(0).cpu())\n",
    "\n",
    "    return enhanced_image\n"
   ]
  },
  {
   "cell_type": "code",
   "execution_count": 39,
   "id": "8b6899ef",
   "metadata": {},
   "outputs": [],
   "source": [
    "input_folder = r\"C:\\Users\\pirat\\Downloads\\raw\\drive-download-20230721T131030Z-001\"\n",
    "output_folder = r\"C:\\Users\\pirat\\Downloads\\Enhanced\"\n",
    "\n",
    "# Create the output folder if it doesn't exist\n",
    "os.makedirs(output_folder, exist_ok=True)\n",
    "\n",
    "# List all the files in the input folder\n",
    "image_files = os.listdir(input_folder)\n"
   ]
  }
 ],
 "metadata": {
  "kernelspec": {
   "display_name": "Python 3 (ipykernel)",
   "language": "python",
   "name": "python3"
  },
  "language_info": {
   "codemirror_mode": {
    "name": "ipython",
    "version": 3
   },
   "file_extension": ".py",
   "mimetype": "text/x-python",
   "name": "python",
   "nbconvert_exporter": "python",
   "pygments_lexer": "ipython3",
   "version": "3.11.3"
  }
 },
 "nbformat": 4,
 "nbformat_minor": 5
}
