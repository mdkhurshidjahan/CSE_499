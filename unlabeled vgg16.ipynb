{
 "cells": [
  {
   "cell_type": "code",
   "execution_count": 11,
   "id": "f0ca6346",
   "metadata": {},
   "outputs": [],
   "source": [
    "import os\n",
    "import torch\n",
    "from torch import nn\n",
    "from torch.utils.data import DataLoader\n",
    "from torchvision import datasets, transforms\n",
    "torch.__version__\n",
    "import os \n",
    "os.environ['KMP_DUPLICATE_LIB_OK']='True'\n",
    "import matplotlib.pyplot as plt\n",
    "import torch\n",
    "import torch.nn as nn\n",
    "import torchvision.transforms as transforms\n",
    "from PIL import Image\n",
    "\n",
    "import random"
   ]
  },
  {
   "cell_type": "code",
   "execution_count": 2,
   "id": "e3e13f50",
   "metadata": {},
   "outputs": [
    {
     "data": {
      "text/plain": [
       "'cuda'"
      ]
     },
     "execution_count": 2,
     "metadata": {},
     "output_type": "execute_result"
    }
   ],
   "source": [
    "device = 'cuda' if torch.cuda.is_available() else 'cpu'\n",
    "device"
   ]
  },
  {
   "cell_type": "code",
   "execution_count": 3,
   "id": "09283b8b",
   "metadata": {},
   "outputs": [],
   "source": [
    "data_transform = transforms.Compose([\n",
    "   \n",
    "transforms.Resize(size=(256, 256)),\n",
    "    \n",
    "    \n",
    "    \n",
    "    transforms.Grayscale(num_output_channels=3),\n",
    "    \n",
    "    transforms.ToTensor() \n",
    "])"
   ]
  },
  {
   "cell_type": "code",
   "execution_count": 4,
   "id": "ed5e885c",
   "metadata": {},
   "outputs": [],
   "source": [
    "train_dir = r'C:\\Users\\pirat\\Desktop\\CSE499\\unsupervised\\train'\n",
    "test_dir = r'C:\\Users\\pirat\\Desktop\\CSE499\\unsupervised\\test'"
   ]
  },
  {
   "cell_type": "code",
   "execution_count": 5,
   "id": "67f930af",
   "metadata": {},
   "outputs": [
    {
     "name": "stdout",
     "output_type": "stream",
     "text": [
      "Train data:\n",
      "Dataset ImageFolder\n",
      "    Number of datapoints: 318\n",
      "    Root location: C:\\Users\\pirat\\Desktop\\CSE499\\unsupervised\\train\n",
      "    StandardTransform\n",
      "Transform: Compose(\n",
      "               Resize(size=(256, 256), interpolation=bilinear, max_size=None, antialias=warn)\n",
      "               Grayscale(num_output_channels=3)\n",
      "               ToTensor()\n",
      "           )\n",
      "Test data:\n",
      "Dataset ImageFolder\n",
      "    Number of datapoints: 183\n",
      "    Root location: C:\\Users\\pirat\\Desktop\\CSE499\\unsupervised\\test\n",
      "    StandardTransform\n",
      "Transform: Compose(\n",
      "               Resize(size=(256, 256), interpolation=bilinear, max_size=None, antialias=warn)\n",
      "               Grayscale(num_output_channels=3)\n",
      "               ToTensor()\n",
      "           )\n"
     ]
    }
   ],
   "source": [
    "# Use ImageFolder to create datasets\n",
    "\n",
    "from torchvision import datasets\n",
    "\n",
    "train_data = datasets.ImageFolder(root=train_dir, # target folder of images\n",
    "                                  transform=data_transform, # transforms to perform on data (images)\n",
    "                                  target_transform=None) # transforms to perform on labels (if necessary)\n",
    "\n",
    "test_data = datasets.ImageFolder(root=test_dir,\n",
    "                                 transform=data_transform)\n",
    "\n",
    "print(f\"Train data:\\n{train_data}\\nTest data:\\n{test_data}\")"
   ]
  },
  {
   "cell_type": "code",
   "execution_count": 6,
   "id": "3343e211",
   "metadata": {},
   "outputs": [
    {
     "data": {
      "text/plain": [
       "(318, 183, ['farcture', 'non-fracture'], {'farcture': 0, 'non-fracture': 1})"
      ]
     },
     "execution_count": 6,
     "metadata": {},
     "output_type": "execute_result"
    }
   ],
   "source": [
    "# Get class names as a list\n",
    "class_names = train_data.classes\n",
    "\n",
    "\n",
    "# Can also get class names as a dict\n",
    "class_dict = train_data.class_to_idx\n",
    "\n",
    "\n",
    "# Check the lengths\n",
    "\n",
    "len(train_data), len(test_data), class_names, class_dict"
   ]
  },
  {
   "cell_type": "code",
   "execution_count": 7,
   "id": "8fab4437",
   "metadata": {},
   "outputs": [
    {
     "data": {
      "text/plain": [
       "(<torch.utils.data.dataloader.DataLoader at 0x1be486b7410>,\n",
       " <torch.utils.data.dataloader.DataLoader at 0x1be486b72d0>)"
      ]
     },
     "execution_count": 7,
     "metadata": {},
     "output_type": "execute_result"
    }
   ],
   "source": [
    "# Create dataloaders\n",
    "\n",
    "from torch.utils.data import DataLoader\n",
    "\n",
    "BATCH = 32\n",
    "WORKERS = os.cpu_count()\n",
    "\n",
    "train_dataloader = DataLoader(dataset=train_data,\n",
    "                              batch_size=BATCH,\n",
    "                              num_workers=WORKERS,\n",
    "                              shuffle=True)\n",
    "\n",
    "test_dataloader = DataLoader(dataset=test_data,\n",
    "                             batch_size=BATCH,\n",
    "                             num_workers=WORKERS,\n",
    "                             shuffle=False)\n",
    "\n",
    "train_dataloader, test_dataloader"
   ]
  },
  {
   "cell_type": "code",
   "execution_count": 8,
   "id": "7b20d0b4",
   "metadata": {},
   "outputs": [
    {
     "name": "stderr",
     "output_type": "stream",
     "text": [
      "C:\\Users\\pirat\\anaconda3\\Lib\\site-packages\\torchvision\\models\\_utils.py:223: UserWarning: Arguments other than a weight enum or `None` for 'weights' are deprecated since 0.13 and may be removed in the future. The current behavior is equivalent to passing `weights=VGG16_Weights.IMAGENET1K_V1`. You can also use `weights=VGG16_Weights.DEFAULT` to get the most up-to-date weights.\n",
      "  warnings.warn(msg)\n"
     ]
    }
   ],
   "source": [
    "import torchvision.models as models\n",
    "\n",
    "class VGG16Binary(nn.Module):\n",
    "    def __init__(self):\n",
    "        super(VGG16Binary, self).__init__()\n",
    "        self.vgg16 = models.vgg16(weights=True)\n",
    "        # Freeze all the layers in the VGG16 model\n",
    "        for param in self.vgg16.parameters():\n",
    "            param.requires_grad = False\n",
    "\n",
    "        # Replace the last fully connected layer with a custom binary classifier\n",
    "        num_features = self.vgg16.classifier[6].in_features\n",
    "        self.vgg16.classifier[6] = nn.Sequential(\n",
    "            nn.Linear(num_features, 256),\n",
    "            nn.ReLU(),\n",
    "            nn.Dropout(0.5),\n",
    "            nn.Linear(256, 2),  # Binary classification - 2 output classes\n",
    "            nn.LogSoftmax(dim=1)\n",
    "        )\n",
    "\n",
    "    def forward(self, x):\n",
    "        return self.vgg16(x)\n",
    "model = VGG16Binary().to(device)"
   ]
  },
  {
   "cell_type": "code",
   "execution_count": 9,
   "id": "63d0cd24",
   "metadata": {},
   "outputs": [
    {
     "data": {
      "text/plain": [
       "==========================================================================================\n",
       "Layer (type:depth-idx)                   Output Shape              Param #\n",
       "==========================================================================================\n",
       "VGG16Binary                              [1, 2]                    --\n",
       "├─VGG: 1-1                               [1, 2]                    --\n",
       "│    └─Sequential: 2-1                   [1, 512, 8, 8]            --\n",
       "│    │    └─Conv2d: 3-1                  [1, 64, 256, 256]         (1,792)\n",
       "│    │    └─ReLU: 3-2                    [1, 64, 256, 256]         --\n",
       "│    │    └─Conv2d: 3-3                  [1, 64, 256, 256]         (36,928)\n",
       "│    │    └─ReLU: 3-4                    [1, 64, 256, 256]         --\n",
       "│    │    └─MaxPool2d: 3-5               [1, 64, 128, 128]         --\n",
       "│    │    └─Conv2d: 3-6                  [1, 128, 128, 128]        (73,856)\n",
       "│    │    └─ReLU: 3-7                    [1, 128, 128, 128]        --\n",
       "│    │    └─Conv2d: 3-8                  [1, 128, 128, 128]        (147,584)\n",
       "│    │    └─ReLU: 3-9                    [1, 128, 128, 128]        --\n",
       "│    │    └─MaxPool2d: 3-10              [1, 128, 64, 64]          --\n",
       "│    │    └─Conv2d: 3-11                 [1, 256, 64, 64]          (295,168)\n",
       "│    │    └─ReLU: 3-12                   [1, 256, 64, 64]          --\n",
       "│    │    └─Conv2d: 3-13                 [1, 256, 64, 64]          (590,080)\n",
       "│    │    └─ReLU: 3-14                   [1, 256, 64, 64]          --\n",
       "│    │    └─Conv2d: 3-15                 [1, 256, 64, 64]          (590,080)\n",
       "│    │    └─ReLU: 3-16                   [1, 256, 64, 64]          --\n",
       "│    │    └─MaxPool2d: 3-17              [1, 256, 32, 32]          --\n",
       "│    │    └─Conv2d: 3-18                 [1, 512, 32, 32]          (1,180,160)\n",
       "│    │    └─ReLU: 3-19                   [1, 512, 32, 32]          --\n",
       "│    │    └─Conv2d: 3-20                 [1, 512, 32, 32]          (2,359,808)\n",
       "│    │    └─ReLU: 3-21                   [1, 512, 32, 32]          --\n",
       "│    │    └─Conv2d: 3-22                 [1, 512, 32, 32]          (2,359,808)\n",
       "│    │    └─ReLU: 3-23                   [1, 512, 32, 32]          --\n",
       "│    │    └─MaxPool2d: 3-24              [1, 512, 16, 16]          --\n",
       "│    │    └─Conv2d: 3-25                 [1, 512, 16, 16]          (2,359,808)\n",
       "│    │    └─ReLU: 3-26                   [1, 512, 16, 16]          --\n",
       "│    │    └─Conv2d: 3-27                 [1, 512, 16, 16]          (2,359,808)\n",
       "│    │    └─ReLU: 3-28                   [1, 512, 16, 16]          --\n",
       "│    │    └─Conv2d: 3-29                 [1, 512, 16, 16]          (2,359,808)\n",
       "│    │    └─ReLU: 3-30                   [1, 512, 16, 16]          --\n",
       "│    │    └─MaxPool2d: 3-31              [1, 512, 8, 8]            --\n",
       "│    └─AdaptiveAvgPool2d: 2-2            [1, 512, 7, 7]            --\n",
       "│    └─Sequential: 2-3                   [1, 2]                    --\n",
       "│    │    └─Linear: 3-32                 [1, 4096]                 (102,764,544)\n",
       "│    │    └─ReLU: 3-33                   [1, 4096]                 --\n",
       "│    │    └─Dropout: 3-34                [1, 4096]                 --\n",
       "│    │    └─Linear: 3-35                 [1, 4096]                 (16,781,312)\n",
       "│    │    └─ReLU: 3-36                   [1, 4096]                 --\n",
       "│    │    └─Dropout: 3-37                [1, 4096]                 --\n",
       "│    │    └─Sequential: 3-38             [1, 2]                    1,049,346\n",
       "==========================================================================================\n",
       "Total params: 135,309,890\n",
       "Trainable params: 1,049,346\n",
       "Non-trainable params: 134,260,544\n",
       "Total mult-adds (Units.GIGABYTES): 20.18\n",
       "==========================================================================================\n",
       "Input size (MB): 0.79\n",
       "Forward/backward pass size (MB): 141.63\n",
       "Params size (MB): 541.24\n",
       "Estimated Total Size (MB): 683.65\n",
       "=========================================================================================="
      ]
     },
     "execution_count": 9,
     "metadata": {},
     "output_type": "execute_result"
    }
   ],
   "source": [
    "try:\n",
    "    import torchinfo\n",
    "except:\n",
    "    !pip install torchinfo\n",
    "    import torchinfo\n",
    "\n",
    "from torchinfo import summary\n",
    "summary(model, input_size=[1, 3, 256, 256])"
   ]
  },
  {
   "cell_type": "code",
   "execution_count": 10,
   "id": "d11c3759",
   "metadata": {},
   "outputs": [
    {
     "name": "stdout",
     "output_type": "stream",
     "text": [
      "Epoch 1/5, Train Loss: 0.4721, Train Accuracy: 77.04%, Test Loss: 0.7523, Test Accuracy: 55.19%\n",
      "Epoch 2/5, Train Loss: 0.3315, Train Accuracy: 84.59%, Test Loss: 0.5352, Test Accuracy: 74.86%\n",
      "Epoch 3/5, Train Loss: 0.2439, Train Accuracy: 90.57%, Test Loss: 0.4859, Test Accuracy: 77.05%\n",
      "Epoch 4/5, Train Loss: 0.2114, Train Accuracy: 90.88%, Test Loss: 0.5736, Test Accuracy: 74.86%\n",
      "Epoch 5/5, Train Loss: 0.2060, Train Accuracy: 90.88%, Test Loss: 0.6408, Test Accuracy: 73.77%\n"
     ]
    },
    {
     "data": {
      "image/png": "[encoded data removed]",
      "text/plain": [
       "<Figure size 1200x500 with 2 Axes>"
      ]
     },
     "metadata": {},
     "output_type": "display_data"
    }
   ],
   "source": [
    "model = VGG16Binary().to(device)\n",
    "criterion = nn.CrossEntropyLoss()\n",
    "optimizer = torch.optim.Adam(model.parameters(), lr=0.001)\n",
    "\n",
    "num_epochs = 5\n",
    "\n",
    "# Lists to store loss and accuracy values for train and test data\n",
    "train_losses = []\n",
    "train_accuracies = []\n",
    "test_losses = []\n",
    "test_accuracies = []\n",
    "\n",
    "for epoch in range(num_epochs):\n",
    "    # Training\n",
    "    model.train()\n",
    "    train_loss = 0.0\n",
    "    total_train_correct = 0\n",
    "    total_train_samples = 0\n",
    "\n",
    "    for images, labels in train_dataloader:\n",
    "        images, labels = images.to(device), labels.to(device)\n",
    "        optimizer.zero_grad()\n",
    "        outputs = model(images)\n",
    "        loss = criterion(outputs, labels)\n",
    "        loss.backward()\n",
    "        optimizer.step()\n",
    "\n",
    "        train_loss += loss.item() * images.size(0)\n",
    "        _, predicted = torch.max(outputs.data, 1)\n",
    "        total_train_samples += labels.size(0)\n",
    "        total_train_correct += (predicted == labels).sum().item()\n",
    "\n",
    "    train_accuracy = 100 * total_train_correct / total_train_samples\n",
    "    train_loss /= len(train_dataloader.dataset)\n",
    "\n",
    "    # Validation (Test data)\n",
    "    model.eval()\n",
    "    test_loss = 0.0\n",
    "    total_test_correct = 0\n",
    "    total_test_samples = 0\n",
    "\n",
    "    with torch.no_grad():\n",
    "        for images, labels in test_dataloader:\n",
    "            images, labels = images.to(device), labels.to(device)\n",
    "            outputs = model(images)\n",
    "            loss = criterion(outputs, labels)\n",
    "\n",
    "            test_loss += loss.item() * images.size(0)\n",
    "            _, predicted = torch.max(outputs.data, 1)\n",
    "            total_test_samples += labels.size(0)\n",
    "            total_test_correct += (predicted == labels).sum().item()\n",
    "\n",
    "    test_accuracy = 100 * total_test_correct / total_test_samples\n",
    "    test_loss /= len(test_dataloader.dataset)\n",
    "\n",
    "    # Append loss and accuracy values to the lists\n",
    "    train_losses.append(train_loss)\n",
    "    train_accuracies.append(train_accuracy)\n",
    "    test_losses.append(test_loss)\n",
    "    test_accuracies.append(test_accuracy)\n",
    "\n",
    "    print(f'Epoch {epoch+1}/{num_epochs}, '\n",
    "          f'Train Loss: {train_loss:.4f}, Train Accuracy: {train_accuracy:.2f}%, '\n",
    "          f'Test Loss: {test_loss:.4f}, Test Accuracy: {test_accuracy:.2f}%')\n",
    "\n",
    "# Plot the loss and accuracy graphs\n",
    "plt.figure(figsize=(12, 5))\n",
    "plt.subplot(1, 2, 1)\n",
    "plt.plot(range(1, num_epochs + 1), train_losses, label='Train')\n",
    "plt.plot(range(1, num_epochs + 1), test_losses, label='Test')\n",
    "plt.xlabel('Epochs')\n",
    "plt.ylabel('Loss')\n",
    "plt.legend()\n",
    "plt.title('Train and Test Loss')\n",
    "\n",
    "plt.subplot(1, 2, 2)\n",
    "plt.plot(range(1, num_epochs + 1), train_accuracies, label='Train')\n",
    "plt.plot(range(1, num_epochs + 1), test_accuracies, label='Test')\n",
    "plt.xlabel('Epochs')\n",
    "plt.ylabel('Accuracy (%)')\n",
    "plt.legend()\n",
    "plt.title('Train and Test Accuracy')\n",
    "\n",
    "plt.tight_layout()\n",
    "plt.show()"
   ]
  },
  {
   "cell_type": "code",
   "execution_count": null,
   "id": "abcbc4ed",
   "metadata": {},
   "outputs": [],
   "source": []
  },
  {
   "cell_type": "code",
   "execution_count": null,
   "id": "3eebc676",
   "metadata": {},
   "outputs": [],
   "source": []
  }
 ],
 "metadata": {
  "kernelspec": {
   "display_name": "Python 3 (ipykernel)",
   "language": "python",
   "name": "python3"
  },
  "language_info": {
   "codemirror_mode": {
    "name": "ipython",
    "version": 3
   },
   "file_extension": ".py",
   "mimetype": "text/x-python",
   "name": "python",
   "nbconvert_exporter": "python",
   "pygments_lexer": "ipython3",
   "version": "3.11.3"
  }
 },
 "nbformat": 4,
 "nbformat_minor": 5
}
